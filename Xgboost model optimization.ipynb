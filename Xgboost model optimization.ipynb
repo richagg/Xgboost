{
 "cells": [
  {
   "cell_type": "code",
   "execution_count": 9,
   "metadata": {
    "collapsed": true
   },
   "outputs": [],
   "source": [
    "#setting up\n",
    "%run import-xgboost.py #calls script to build xgboost path variables for windows on my machine\n",
    "\n",
    "#libraries used\n",
    "import xgboost as xgb #modeling\n",
    "import pandas as pd #dataframe manipulation\n",
    "import numpy as np  #n-arrays\n",
    "from sklearn.metrics import accuracy_score #scoring\n",
    "\n",
    "import matplotlib.pyplot as plt #plotting graphs\n",
    "import seaborn as sns  #for better looking graphs\n",
    "\n",
    "%matplotlib inline\n",
    "\n",
    "np.random.seed(0) #For repeatability of the experiment\n",
    "\n",
    "target = 'survival_7_years'\n",
    "idcolumn = 'id'"
   ]
  },
  {
   "cell_type": "markdown",
   "metadata": {},
   "source": [
    "This data set was part of a data compteition. Since I can't disclose the data (NDA and all that), I have edited out the data exploration steps.\n",
    "With the data all set up, we move on to the modelling. I used gradient boosting, using the xgboost package. <br/>\n",
    "The focus here is to <b>understand</b> how to change model parameters based on the values of train and test error you see.\n",
    "Hence I hand-tuned parameters to improve the performance, instead of simply running a GridSearch.\n",
    "\n",
    "XGboost has a LOT of paramters. For an understanding of what these are, check out this <a , href=\"https://www.analyticsvidhya.com/blog/2016/03/complete-guide-parameter-tuning-xgboost-with-codes-python/\" > Complete Guide by AnalyticsVidya  </a>"
   ]
  },
  {
   "cell_type": "code",
   "execution_count": 51,
   "metadata": {},
   "outputs": [
    {
     "name": "stdout",
     "output_type": "stream",
     "text": [
      "    test-error-mean  test-error-std  train-error-mean  train-error-std\n",
      "32         0.341372        0.007914          0.323286         0.001566\n",
      "33         0.341047        0.007828          0.323156         0.001760\n",
      "34         0.341307        0.008122          0.323334         0.001432\n",
      "35         0.340787        0.008300          0.323334         0.001108\n",
      "36         0.340722        0.008130          0.323480         0.001301\n"
     ]
    }
   ],
   "source": [
    "#building and tuning the Xgboost model\n",
    "from sklearn.metrics import confusion_matrix\n",
    "\n",
    "#Creating the DMatrix from the training data set\n",
    "xgtrain = xgb.DMatrix(final_train[cols_to_use], label=final_train[target])\n",
    "\n",
    "#Setting the hyper-parameters for the model\n",
    "cv_folds =5 \n",
    "early_stopping_rounds = 50\n",
    "\n",
    "#initial model- started with a high variance \n",
    "xgb1 = xgb.XGBClassifier(\n",
    " learning_rate =0.01,\n",
    " n_estimators=100,\n",
    " max_depth=10,\n",
    " subsample=0.9,\n",
    " seed=1)\n",
    "\n",
    "#Decreasing subsample and max_depth to reduce overfit\n",
    "xgb2 = xgb.XGBClassifier(\n",
    " learning_rate =0.01,\n",
    " n_estimators=100, \n",
    " max_depth=8,\n",
    " subsample=0.8,\n",
    " seed=1)\n",
    "\n",
    "#Decreasing subsample and max_depth to further reduce overfit\n",
    "xgb3 = xgb.XGBClassifier(\n",
    " learning_rate =0.01,\n",
    " n_estimators=100,\n",
    " max_depth=6,\n",
    " subsample=0.6,\n",
    " seed=1)\n",
    "\n",
    "#inititalize the model for cross validation\n",
    "xgbmodel=xgb3\n",
    "#perform cross validation \n",
    "cvresult = xgb.cv(xgbmodel.get_xgb_params(), xgtrain, num_boost_round=xgbmodel.get_params()['n_estimators'], nfold=cv_folds,\n",
    "                      metrics = ['error'], early_stopping_rounds=early_stopping_rounds, verbose_eval=False)\n",
    "xgbmodel.set_params(n_estimators=cvresult.shape[0]) \n",
    "best_round = cvresult.shape[0] -1\n",
    "print(cvresult.tail())\n"
   ]
  },
  {
   "cell_type": "markdown",
   "metadata": {},
   "source": [
    "For any model, error can be decomposed into the following terms -\n",
    "Error = ErrorBias + ErrorVariance+ (Errornoise)\n",
    "I started with a low bias tree, with an aim of improving its variance. I used the depth of the tree and the subsample percentage to control the overfit.  \n",
    "1.\tI started with a subsampling ratio of 0.9 and grew a deep tree with max_depth = 10. I chose 10 to satisfy the rule of thumb that each leaf node should have 1% of the data. That indicates 15 terminal nodes, which would mean a depth of 4 for a binary tree. Hence 10 would be a deep tree for our data set. With this depth, and subsampling I got very good results for train, but bad for test. This indicates an overfit, which is what was expected. \n",
    "<b>Test-error: 0.350991, Training-error: 0.211976 </b>\n",
    "2.\tI reduced max_depth to 8 and decreased subsampling to 0.8 with the aim of reducing overfit. This showed some improvement on the test, indicating I was closer to the best model. \n",
    "<b>Test-error: 0.345271, Training-error: 0.293663</b>\n",
    "3.\tAt max_depth of 6, and subsampling of .6, I saw the test error drop significantly and the train error train very close to the test error. For this iteration, the cross validation stopped at the 36th tree. \n",
    "<b>Test-error: 0.340722, Training-error: 0.323480</b>\n",
    "\n",
    "This is exactly what I was aiming for- a reliable model with low bias, which doesn’t overfit!\n",
    "\n",
    "I ran one more iteration with max_depth as 5 to be sure. As expected, it increased my test error and reduced my training error. Thus, I conclude the best parameters for my model are from iteration #3. With these model parameters, I fit the model on the training set and calculate prediction accuracy as given 7-year survival values compared to those predicted (default probability threshold of 0.5). \n",
    "It gave a training accuracy of 67.53% which is much better than the baseline! (The basline was 57%) \n"
   ]
  },
  {
   "cell_type": "code",
   "execution_count": 52,
   "metadata": {},
   "outputs": [
    {
     "name": "stdout",
     "output_type": "stream",
     "text": [
      "Train Accuracy : 0.6753\n"
     ]
    }
   ],
   "source": [
    "#Evaluating the model \n",
    "#Fit the selected model on the training data\n",
    "xgbmodel.fit(final_train[cols_to_use], final_train[target],eval_metric=\"error\")\n",
    "\n",
    "#Predict the dependent variable\n",
    "y_pred = xgbmodel.predict(final_train[cols_to_use])\n",
    "class_predictions = [round(value) for value in y_pred] #use default threhold of 0.5\n",
    "\n",
    "#Print model accuracy\n",
    "print ( \"Train Accuracy : %.4f\" % accuracy_score(final_train[target], class_predictions))        "
   ]
  },
  {
   "cell_type": "code",
   "execution_count": 53,
   "metadata": {
    "scrolled": true
   },
   "outputs": [
    {
     "name": "stdout",
     "output_type": "stream",
     "text": [
      "             precision    recall  f1-score   support\n",
      "\n",
      "        0.0       0.72      0.71      0.71      8734\n",
      "        1.0       0.62      0.63      0.63      6651\n",
      "\n",
      "avg / total       0.68      0.68      0.68     15385\n",
      "\n"
     ]
    }
   ],
   "source": [
    "#Check the confusion matrix\n",
    "from sklearn.metrics import classification_report\n",
    "print(classification_report(final_train[target], class_predictions) )"
   ]
  },
  {
   "cell_type": "markdown",
   "metadata": {},
   "source": [
    "We observe a ~68% accuracy! That is much better than our 53% baseline! <br/>  Let's look at the feature importances before we predict the survival values on the scoring data"
   ]
  },
  {
   "cell_type": "code",
   "execution_count": 54,
   "metadata": {},
   "outputs": [
    {
     "data": {
      "image/png": "[encoded data removed]",
      "text/plain": [
       "<matplotlib.figure.Figure at 0x2a9831198d0>"
      ]
     },
     "metadata": {},
     "output_type": "display_data"
    }
   ],
   "source": [
    "#Feature importance \n",
    "best_model = xgb.train(xgb3.get_xgb_params(), xgtrain, best_round)\n",
    "importances = best_model.get_fscore()\n",
    "imp_frame = pd.DataFrame({'Importance': list(importances.values()), 'Features': list(importances.keys())})\n",
    "imp_frame.sort_values(by = 'Importance', inplace = True)\n",
    "imp_frame.plot(kind = 'barh', x = 'Features', figsize = (8,8), color = 'cornflowerblue')\n",
    "plt.show()"
   ]
  },
  {
   "cell_type": "markdown",
   "metadata": {},
   "source": [
    "As we see from the variable importance graph, the 1 year trend variables that we created, are both extremely useful for the model!<br/>\n",
    "In addition, the age and wieght of the patient are also used.\n"
   ]
  }
 ],
 "metadata": {
  "kernelspec": {
   "display_name": "Python 3",
   "language": "python",
   "name": "python3"
  },
  "language_info": {
   "codemirror_mode": {
    "name": "ipython",
    "version": 3
   },
   "file_extension": ".py",
   "mimetype": "text/x-python",
   "name": "python",
   "nbconvert_exporter": "python",
   "pygments_lexer": "ipython3",
   "version": "3.6.3"
  }
 },
 "nbformat": 4,
 "nbformat_minor": 2
}
